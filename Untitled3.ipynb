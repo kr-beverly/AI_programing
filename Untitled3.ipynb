{
 "cells": [
  {
   "cell_type": "code",
   "execution_count": 11,
   "id": "7d66e5d5",
   "metadata": {},
   "outputs": [
    {
     "name": "stdout",
     "output_type": "stream",
     "text": [
      "짝수 : 2\n",
      "짝수 : 4\n",
      "짝수 : 6\n",
      "짝수 : 8\n",
      "짝수 : 10\n"
     ]
    }
   ],
   "source": [
    "a = [1, 2, 3, 4, 5, 6, 7, 8, 9, 10]\n",
    "\n",
    "for a in a :\n",
    "    if a % 2 == 0 :\n",
    "            print(\"짝수 : %d\" %a)"
   ]
  },
  {
   "cell_type": "code",
   "execution_count": 7,
   "id": "46d56426",
   "metadata": {
    "scrolled": false
   },
   "outputs": [
    {
     "ename": "TypeError",
     "evalue": "'>' not supported between instances of 'list' and 'int'",
     "output_type": "error",
     "traceback": [
      "\u001b[1;31m---------------------------------------------------------------------------\u001b[0m",
      "\u001b[1;31mTypeError\u001b[0m                                 Traceback (most recent call last)",
      "\u001b[1;32m<ipython-input-7-a4ad99152713>\u001b[0m in \u001b[0;36m<module>\u001b[1;34m\u001b[0m\n\u001b[0;32m      3\u001b[0m \u001b[1;32mfor\u001b[0m \u001b[0mi\u001b[0m \u001b[1;32min\u001b[0m \u001b[0ma\u001b[0m \u001b[1;33m:\u001b[0m\u001b[1;33m\u001b[0m\u001b[1;33m\u001b[0m\u001b[0m\n\u001b[0;32m      4\u001b[0m     \u001b[1;32mfor\u001b[0m \u001b[0mj\u001b[0m \u001b[1;32min\u001b[0m \u001b[0ma\u001b[0m \u001b[1;33m:\u001b[0m\u001b[1;33m\u001b[0m\u001b[1;33m\u001b[0m\u001b[0m\n\u001b[1;32m----> 5\u001b[1;33m        \u001b[1;32mif\u001b[0m \u001b[0mi\u001b[0m \u001b[1;33m>\u001b[0m \u001b[1;36m70\u001b[0m \u001b[1;33m:\u001b[0m\u001b[1;33m\u001b[0m\u001b[1;33m\u001b[0m\u001b[0m\n\u001b[0m\u001b[0;32m      6\u001b[0m             \u001b[0mprint\u001b[0m\u001b[1;33m(\u001b[0m\u001b[1;34m\"%d\"\u001b[0m \u001b[1;33m%\u001b[0m\u001b[1;33m(\u001b[0m\u001b[0ma\u001b[0m\u001b[1;33m[\u001b[0m\u001b[0mi\u001b[0m\u001b[1;33m+\u001b[0m\u001b[1;36m1\u001b[0m\u001b[1;33m]\u001b[0m\u001b[1;33m[\u001b[0m\u001b[1;36m2\u001b[0m\u001b[1;33m]\u001b[0m\u001b[1;33m>\u001b[0m \u001b[1;36m70\u001b[0m\u001b[1;33m)\u001b[0m\u001b[1;33m)\u001b[0m\u001b[1;33m\u001b[0m\u001b[1;33m\u001b[0m\u001b[0m\n",
      "\u001b[1;31mTypeError\u001b[0m: '>' not supported between instances of 'list' and 'int'"
     ]
    }
   ],
   "source": [
    "a = [[\"국어\", \"영어\", \"수학\"],[70, 60, 50],[70, 90, 80],[60, 70, 90]]\n",
    "\n",
    "for i in a :\n",
    "    for j in a :\n",
    "       if i > 70 :\n",
    "            print(\"%d\" %(a[i+1][2]> 70))"
   ]
  },
  {
   "cell_type": "code",
   "execution_count": 5,
   "id": "ce3d9b5b",
   "metadata": {},
   "outputs": [
    {
     "name": "stdout",
     "output_type": "stream",
     "text": [
      " \n",
      "2 4 6 8 10 12 14 16 18 20 22 24 26 28  \n",
      " \n",
      "4 8 12 16 20 24 28 32 36 40 44 48 52 56  \n",
      " \n",
      "6 12 18 24 30 36 42 48 54 60 66 72 78 84  \n",
      " \n",
      "8 16 24 32 40 48 56 64 72 80 88 96 104 112  \n",
      " \n"
     ]
    }
   ],
   "source": [
    "for a in range(1, 10) :\n",
    "    for j in range (1, 15) :\n",
    "        if a % 2 == 0 :\n",
    "            print(a*j, end = \" \")\n",
    "    print(\" \")"
   ]
  },
  {
   "cell_type": "code",
   "execution_count": 6,
   "id": "887e7139",
   "metadata": {},
   "outputs": [
    {
     "name": "stdout",
     "output_type": "stream",
     "text": [
      "49\n",
      "3\n",
      "1\n"
     ]
    }
   ],
   "source": [
    "class Cal :\n",
    "    def result (self, a, b) :\n",
    "        self.a = a\n",
    "        self.b = b\n",
    "\n",
    "        print(a**b)\n",
    "        print(a//b)\n",
    "        print(a%b)\n",
    "\n",
    "c = Cal()\n",
    "c.result(7,2)"
   ]
  },
  {
   "cell_type": "code",
   "execution_count": null,
   "id": "813f9b58",
   "metadata": {},
   "outputs": [],
   "source": []
  }
 ],
 "metadata": {
  "kernelspec": {
   "display_name": "Python 3",
   "language": "python",
   "name": "python3"
  },
  "language_info": {
   "codemirror_mode": {
    "name": "ipython",
    "version": 3
   },
   "file_extension": ".py",
   "mimetype": "text/x-python",
   "name": "python",
   "nbconvert_exporter": "python",
   "pygments_lexer": "ipython3",
   "version": "3.8.8"
  }
 },
 "nbformat": 4,
 "nbformat_minor": 5
}
