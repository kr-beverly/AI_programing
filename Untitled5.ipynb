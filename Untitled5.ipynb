{
 "cells": [
  {
   "cell_type": "code",
   "execution_count": 1,
   "id": "c17053f0",
   "metadata": {},
   "outputs": [
    {
     "name": "stdout",
     "output_type": "stream",
     "text": [
      "49\n",
      "3\n",
      "1\n"
     ]
    }
   ],
   "source": [
    "class Cal :\n",
    "    def result (self, a, b) :\n",
    "        self.a = a\n",
    "        self.b = b\n",
    "\n",
    "        print(a**b)\n",
    "        print(a//b)\n",
    "        print(a%b)\n",
    "\n",
    "c = Cal()\n",
    "c.result(7,2)"
   ]
  },
  {
   "cell_type": "code",
   "execution_count": null,
   "id": "e6aadc5d",
   "metadata": {},
   "outputs": [],
   "source": []
  }
 ],
 "metadata": {
  "kernelspec": {
   "display_name": "Python 3",
   "language": "python",
   "name": "python3"
  },
  "language_info": {
   "codemirror_mode": {
    "name": "ipython",
    "version": 3
   },
   "file_extension": ".py",
   "mimetype": "text/x-python",
   "name": "python",
   "nbconvert_exporter": "python",
   "pygments_lexer": "ipython3",
   "version": "3.8.8"
  }
 },
 "nbformat": 4,
 "nbformat_minor": 5
}
