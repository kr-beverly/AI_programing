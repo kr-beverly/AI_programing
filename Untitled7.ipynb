{
 "cells": [
  {
   "cell_type": "code",
   "execution_count": 1,
   "id": "aee79b97",
   "metadata": {},
   "outputs": [
    {
     "ename": "TypeError",
     "evalue": "__init__() got an unexpected keyword argument 'colums'",
     "output_type": "error",
     "traceback": [
      "\u001b[1;31m---------------------------------------------------------------------------\u001b[0m",
      "\u001b[1;31mTypeError\u001b[0m                                 Traceback (most recent call last)",
      "\u001b[1;32m<ipython-input-1-d6bfc8ceeda7>\u001b[0m in \u001b[0;36m<module>\u001b[1;34m\u001b[0m\n\u001b[0;32m      6\u001b[0m        [5, 10, 15, 20, 25, 30, 35, 40, 45]]\n\u001b[0;32m      7\u001b[0m \u001b[1;33m\u001b[0m\u001b[0m\n\u001b[1;32m----> 8\u001b[1;33m df = pd.DataFrame(data,\n\u001b[0m\u001b[0;32m      9\u001b[0m                   \u001b[0mcolums\u001b[0m\u001b[1;33m=\u001b[0m\u001b[1;33m[\u001b[0m\u001b[1;34m\"1\"\u001b[0m\u001b[1;33m,\u001b[0m \u001b[1;34m\"2\"\u001b[0m\u001b[1;33m,\u001b[0m \u001b[1;34m\"3\"\u001b[0m\u001b[1;33m,\u001b[0m \u001b[1;34m\"4\"\u001b[0m\u001b[1;33m,\u001b[0m \u001b[1;34m\"5\"\u001b[0m\u001b[1;33m,\u001b[0m \u001b[1;34m\"6\"\u001b[0m\u001b[1;33m,\u001b[0m \u001b[1;34m\"7\"\u001b[0m\u001b[1;33m,\u001b[0m \u001b[1;34m\"8\"\u001b[0m\u001b[1;33m,\u001b[0m \u001b[1;34m\"9\"\u001b[0m\u001b[1;33m]\u001b[0m\u001b[1;33m,\u001b[0m\u001b[1;33m\u001b[0m\u001b[1;33m\u001b[0m\u001b[0m\n\u001b[0;32m     10\u001b[0m                   index = [\"2단\", \"3단\", \"4단\", \"5단\"])\n",
      "\u001b[1;31mTypeError\u001b[0m: __init__() got an unexpected keyword argument 'colums'"
     ]
    }
   ],
   "source": [
    "import pandas as pd\n",
    "\n",
    "data = [[2, 4, 6, 8,10, 12, 14, 16, 28],\n",
    "       [3, 6, 9, 12, 15, 18, 21, 24, 27],\n",
    "       [4, 8,12,16, 20, 24, 28, 32, 36],\n",
    "       [5, 10, 15, 20, 25, 30, 35, 40, 45]]\n",
    "\n",
    "df = pd.DataFrame(data,\n",
    "                  colums=[\"1\", \"2\", \"3\", \"4\", \"5\", \"6\", \"7\", \"8\", \"9\"],\n",
    "                  index = [\"2단\", \"3단\", \"4단\", \"5단\"])"
   ]
  },
  {
   "cell_type": "code",
   "execution_count": null,
   "id": "cf1e6a60",
   "metadata": {},
   "outputs": [],
   "source": []
  }
 ],
 "metadata": {
  "kernelspec": {
   "display_name": "Python 3",
   "language": "python",
   "name": "python3"
  },
  "language_info": {
   "codemirror_mode": {
    "name": "ipython",
    "version": 3
   },
   "file_extension": ".py",
   "mimetype": "text/x-python",
   "name": "python",
   "nbconvert_exporter": "python",
   "pygments_lexer": "ipython3",
   "version": "3.8.8"
  }
 },
 "nbformat": 4,
 "nbformat_minor": 5
}
