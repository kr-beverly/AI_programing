{
 "cells": [
  {
   "cell_type": "code",
   "execution_count": 103,
   "id": "eb75f96c",
   "metadata": {
    "scrolled": true
   },
   "outputs": [
    {
     "data": {
      "image/png": "[encoded data removed]",
      "text/plain": [
       "<Figure size 1440x360 with 4 Axes>"
      ]
     },
     "metadata": {
      "needs_background": "light"
     },
     "output_type": "display_data"
    }
   ],
   "source": [
    "import matplotlib.pyplot as plt\n",
    "\n",
    "a= [10, 20, 30, 40]\n",
    "b= [10, 20, 30, 40]\n",
    "c= [10, 20, 30, 40]\n",
    "d= [10, 20, 30, 40]\n",
    "\n",
    "plt.figure(figsize = (20,5))\n",
    "\n",
    "plt.subplot(141)\n",
    "plt.plot(a, label = \"a\", marker = 'o',color='red') #x축\n",
    "plt.title('1th')\n",
    "plt.yticks([10,20,30,40], [10,20,30,40])\n",
    "plt.legend(loc='center')\n",
    "\n",
    "plt.subplot(142)\n",
    "plt.plot(b, label = \"b\", ls = \":\", marker = 's',color='black') #x축\n",
    "plt.title('2th')\n",
    "plt.yticks([10,20,30,40])\n",
    "plt.legend(loc='upper right')\n",
    "plt.grid()\n",
    "\n",
    "plt.subplot(143)\n",
    "plt.plot(c, label = \"c\", ls = \"\", marker = '^',color='blue') #x축\n",
    "plt.title('3th')\n",
    "plt.yticks([10, 20, 30, 40])\n",
    "plt.legend(loc='lower left')\n",
    "\n",
    "plt.subplot(144)\n",
    "plt.plot(d, label = \"d\", ls = \"\", marker = '*',color='purple') #x축\n",
    "plt.title('4th')\n",
    "plt.yticks([10,20,30,40])\n",
    "plt.legend(loc='lower center')\n",
    "\n",
    "plt.show()"
   ]
  },
  {
   "cell_type": "code",
   "execution_count": 119,
   "id": "4eca577c",
   "metadata": {},
   "outputs": [
    {
     "name": "stdout",
     "output_type": "stream",
     "text": [
      "A의 랜덤 배열\n",
      "[[41 16 73]\n",
      " [23 44 83]\n",
      " [76  8 35]]\n",
      "\n",
      "B의 랜덤 배열\n",
      "[[50 96 76]\n",
      " [86 48 64]\n",
      " [32 91 21]]\n",
      "====================\n",
      "A와 B의 합\n",
      "[[ 91 112 149]\n",
      " [109  92 147]\n",
      " [108  99  56]]\n",
      "\n",
      "A와 B의 차\n",
      "[[ -9 -80  -3]\n",
      " [-63  -4  19]\n",
      " [ 44 -83  14]]\n",
      "\n",
      "A와 B의 곱\n",
      "[[2050 1536 5548]\n",
      " [1978 2112 5312]\n",
      " [2432  728  735]]\n",
      "\n",
      "A와 B의 나누기\n",
      "[[0.82       0.16666667 0.96052632]\n",
      " [0.26744186 0.91666667 1.296875  ]\n",
      " [2.375      0.08791209 1.66666667]]\n"
     ]
    }
   ],
   "source": [
    " import numpy as np\n",
    "\n",
    "np.random.seed(2)\n",
    "\n",
    "a = np.random.randint(1, 100, (3,3))\n",
    "print(\"A의 랜덤 배열\")\n",
    "print(a)\n",
    "\n",
    "print(\"\")\n",
    "\n",
    "b = np.random.randint(1, 100, (3,3))\n",
    "print(\"B의 랜덤 배열\")\n",
    "print(b)\n",
    "\n",
    "print(\"====================\")\n",
    "\n",
    "hab = np.add(a,b)\n",
    "sub = np.subtract(a,b)\n",
    "pro = np.multiply(a,b)\n",
    "div = np.divide(a,b)\n",
    "\n",
    "print(\"A와 B의 합\")\n",
    "print(hab)\n",
    "print(\"\")\n",
    "print(\"A와 B의 차\")\n",
    "print(sub)\n",
    "print(\"\")\n",
    "print(\"A와 B의 곱\")\n",
    "print(pro)\n",
    "print(\"\")\n",
    "print(\"A와 B의 나누기\")\n",
    "print(div)"
   ]
  },
  {
   "cell_type": "code",
   "execution_count": 130,
   "id": "8fab96b9",
   "metadata": {},
   "outputs": [
    {
     "name": "stdout",
     "output_type": "stream",
     "text": [
      "A 행렬\n",
      "[[1 2 3]\n",
      " [4 5 6]\n",
      " [7 8 9]]\n",
      "\n",
      " B 행렬\n",
      "[[1]\n",
      " [2]\n",
      " [3]]\n",
      "--------------------\n",
      "[[ 2  3  4]\n",
      " [ 6  7  8]\n",
      " [10 11 12]]\n"
     ]
    }
   ],
   "source": [
    "import numpy as np\n",
    "\n",
    "a = np.arange(1,10).reshape(3,3)\n",
    "b = np.arange(1,4).reshape(3,1)\n",
    "print(\"A 행렬\")\n",
    "print(a)\n",
    "print(\"\\n B 행렬\")\n",
    "print(b)\n",
    "print(\"--------------------\")\n",
    "print(a+b)"
   ]
  },
  {
   "cell_type": "code",
   "execution_count": null,
   "id": "54d409cc",
   "metadata": {},
   "outputs": [],
   "source": []
  }
 ],
 "metadata": {
  "kernelspec": {
   "display_name": "Python 3",
   "language": "python",
   "name": "python3"
  },
  "language_info": {
   "codemirror_mode": {
    "name": "ipython",
    "version": 3
   },
   "file_extension": ".py",
   "mimetype": "text/x-python",
   "name": "python",
   "nbconvert_exporter": "python",
   "pygments_lexer": "ipython3",
   "version": "3.8.8"
  }
 },
 "nbformat": 4,
 "nbformat_minor": 5
}
