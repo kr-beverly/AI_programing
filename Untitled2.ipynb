{
 "cells": [
  {
   "cell_type": "code",
   "execution_count": 8,
   "id": "effca0af",
   "metadata": {},
   "outputs": [
    {
     "name": "stdout",
     "output_type": "stream",
     "text": [
      "['황중원', '박지숙', '임진섭', '하민우', ' 천은영']\n"
     ]
    }
   ],
   "source": [
    "exam_rank = ['황중원', '박지숙', '임진섭', ' 천은영']\n",
    "exam_rank.insert(3, '하민우')\n",
    "\n",
    "print(exam_rank )"
   ]
  },
  {
   "cell_type": "code",
   "execution_count": 14,
   "id": "01410099",
   "metadata": {},
   "outputs": [
    {
     "name": "stdout",
     "output_type": "stream",
     "text": [
      "['b', 'c']\n"
     ]
    }
   ],
   "source": [
    "a = [1,2,[3,4,['a','b','c']]]\n",
    "\n",
    "print(a[2][2][1:3])"
   ]
  },
  {
   "cell_type": "code",
   "execution_count": 19,
   "id": "648856e2",
   "metadata": {
    "scrolled": false
   },
   "outputs": [
    {
     "name": "stdout",
     "output_type": "stream",
     "text": [
      "{1: '황중원', 2: '박지숙', 3: '임진섭', 5: '천은영', 4: '하민우'}\n"
     ]
    }
   ],
   "source": [
    "exam = {1:'황중원', 2:'박지숙', 3:'임진섭', 5:'천은영'}\n",
    "exam[4] = '하민우'\n",
    "\n",
    "print(exam)"
   ]
  },
  {
   "cell_type": "code",
   "execution_count": 30,
   "id": "ef7920fc",
   "metadata": {},
   "outputs": [
    {
     "name": "stdout",
     "output_type": "stream",
     "text": [
      "짝수\n"
     ]
    }
   ],
   "source": [
    "a = 10\n",
    "\n",
    "if a % 2 == 0 :\n",
    "    print(\"짝수\")\n",
    "\n",
    "else:\n",
    "    print (\"홀수\")"
   ]
  },
  {
   "cell_type": "code",
   "execution_count": 40,
   "id": "c7e91137",
   "metadata": {},
   "outputs": [
    {
     "name": "stdout",
     "output_type": "stream",
     "text": [
      "바나나\n",
      "오답입니다\n"
     ]
    }
   ],
   "source": [
    "a = [\"사과\", \"포도\", \"딸기\"]\n",
    "b = input()\n",
    "\n",
    "if b in a  :\n",
    "    print(\"정답입니다\")\n",
    "else:\n",
    "    print(\"오답입니다\")"
   ]
  },
  {
   "cell_type": "code",
   "execution_count": 9,
   "id": "36bb15b0",
   "metadata": {},
   "outputs": [
    {
     "name": "stdout",
     "output_type": "stream",
     "text": [
      "짝짝짝\n"
     ]
    }
   ],
   "source": [
    "a = \"홀짝홀짝홀짝\"\n",
    "\n",
    "print(a[1:6:2])"
   ]
  },
  {
   "cell_type": "code",
   "execution_count": null,
   "id": "e479700d",
   "metadata": {},
   "outputs": [],
   "source": []
  }
 ],
 "metadata": {
  "kernelspec": {
   "display_name": "Python 3",
   "language": "python",
   "name": "python3"
  },
  "language_info": {
   "codemirror_mode": {
    "name": "ipython",
    "version": 3
   },
   "file_extension": ".py",
   "mimetype": "text/x-python",
   "name": "python",
   "nbconvert_exporter": "python",
   "pygments_lexer": "ipython3",
   "version": "3.8.8"
  }
 },
 "nbformat": 4,
 "nbformat_minor": 5
}
